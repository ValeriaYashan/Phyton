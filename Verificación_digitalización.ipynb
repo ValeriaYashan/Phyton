{
  "nbformat": 4,
  "nbformat_minor": 0,
  "metadata": {
    "colab": {
      "provenance": [],
      "authorship_tag": "ABX9TyPdpBo9rt9knJx/0Pp68GY5",
      "include_colab_link": true
    },
    "kernelspec": {
      "name": "python3",
      "display_name": "Python 3"
    },
    "language_info": {
      "name": "python"
    }
  },
  "cells": [
    {
      "cell_type": "markdown",
      "metadata": {
        "id": "view-in-github",
        "colab_type": "text"
      },
      "source": [
        "<a href=\"https://colab.research.google.com/github/ValeriaYashan/Phyton/blob/main/Verificaci%C3%B3n_digitalizaci%C3%B3n.ipynb\" target=\"_parent\"><img src=\"https://colab.research.google.com/assets/colab-badge.svg\" alt=\"Open In Colab\"/></a>"
      ]
    },
    {
      "cell_type": "code",
      "execution_count": 3,
      "metadata": {
        "colab": {
          "base_uri": "https://localhost:8080/"
        },
        "id": "kv4U1XIDx8WK",
        "outputId": "1ad3ce4b-1d94-434e-f985-41e2ea7d1b7d"
      },
      "outputs": [
        {
          "output_type": "stream",
          "name": "stdout",
          "text": [
            "El diccionario se ha descargado correctamente.\n"
          ]
        }
      ],
      "source": [
        "import requests\n",
        "\n",
        "# URL del diccionario en GitHub\n",
        "url = \"https://github.com/mgp25/RAE-API\"\n",
        "\n",
        "# Realizar la solicitud GET para descargar el diccionario\n",
        "response = requests.get(url)\n",
        "\n",
        "# Verificar si la descarga fue exitosa\n",
        "if response.status_code == 200:\n",
        "    # Guardar el contenido en un archivo local\n",
        "    with open(\"diccionario_espanol.txt\", \"wb\") as file:\n",
        "        file.write(response.content)\n",
        "    print(\"El diccionario se ha descargado correctamente.\")\n",
        "else:\n",
        "    print(\"No se pudo descargar el diccionario. Código de estado:\", response.status_code)\n"
      ]
    },
    {
      "cell_type": "code",
      "source": [
        "import re\n",
        "from google.colab import files\n",
        "\n",
        "def contar_palabras_correctas(contenido, diccionario):\n",
        "    palabras = contenido.split()\n",
        "    palabras_correctas = []\n",
        "    palabras_erroneas = []\n",
        "\n",
        "    for palabra in palabras:\n",
        "        palabra = re.sub(r'[.,?!;:\"\\']', '', palabra).lower()\n",
        "        if palabra in diccionario:\n",
        "            palabras_correctas.append(palabra)\n",
        "        else:\n",
        "            palabras_erroneas.append(palabra)\n",
        "\n",
        "    return palabras_correctas, palabras_erroneas\n",
        "\n",
        "# Cargar el diccionario\n",
        "with open(\"diccionario_espanol.txt\", \"r\", encoding=\"utf-8\") as f:\n",
        "    diccionario = set(f.read().splitlines())\n",
        "\n",
        "# Solicitar al usuario que suba un archivo\n",
        "print(\"Por favor, selecciona un archivo de texto:\")\n",
        "uploaded_file = files.upload()\n",
        "\n",
        "# Obtener el nombre del archivo subido\n",
        "filename = list(uploaded_file.keys())[0]\n",
        "\n",
        "# Leer el contenido del archivo\n",
        "with open(filename, 'rb') as f:\n",
        "    contenido = f.read().decode('utf-8', 'ignore')\n",
        "\n",
        "palabras_erroneas, palabras_correctas = contar_palabras_correctas(contenido, diccionario)\n",
        "\n",
        "print(\"Cantidad de palabras correctas:\", len(palabras_correctas))\n",
        "print(\"Cantidad de palabras erróneas:\", len(palabras_erroneas))\n"
      ],
      "metadata": {
        "colab": {
          "base_uri": "https://localhost:8080/",
          "height": 123
        },
        "id": "7d3xpbbfzX9h",
        "outputId": "8dd3ec25-c757-4262-a046-cd285986706f"
      },
      "execution_count": 11,
      "outputs": [
        {
          "output_type": "stream",
          "name": "stdout",
          "text": [
            "Por favor, selecciona un archivo de texto:\n"
          ]
        },
        {
          "output_type": "display_data",
          "data": {
            "text/plain": [
              "<IPython.core.display.HTML object>"
            ],
            "text/html": [
              "\n",
              "     <input type=\"file\" id=\"files-ab54b5a0-b65b-4f5b-8f06-da56f9637185\" name=\"files[]\" multiple disabled\n",
              "        style=\"border:none\" />\n",
              "     <output id=\"result-ab54b5a0-b65b-4f5b-8f06-da56f9637185\">\n",
              "      Upload widget is only available when the cell has been executed in the\n",
              "      current browser session. Please rerun this cell to enable.\n",
              "      </output>\n",
              "      <script>// Copyright 2017 Google LLC\n",
              "//\n",
              "// Licensed under the Apache License, Version 2.0 (the \"License\");\n",
              "// you may not use this file except in compliance with the License.\n",
              "// You may obtain a copy of the License at\n",
              "//\n",
              "//      http://www.apache.org/licenses/LICENSE-2.0\n",
              "//\n",
              "// Unless required by applicable law or agreed to in writing, software\n",
              "// distributed under the License is distributed on an \"AS IS\" BASIS,\n",
              "// WITHOUT WARRANTIES OR CONDITIONS OF ANY KIND, either express or implied.\n",
              "// See the License for the specific language governing permissions and\n",
              "// limitations under the License.\n",
              "\n",
              "/**\n",
              " * @fileoverview Helpers for google.colab Python module.\n",
              " */\n",
              "(function(scope) {\n",
              "function span(text, styleAttributes = {}) {\n",
              "  const element = document.createElement('span');\n",
              "  element.textContent = text;\n",
              "  for (const key of Object.keys(styleAttributes)) {\n",
              "    element.style[key] = styleAttributes[key];\n",
              "  }\n",
              "  return element;\n",
              "}\n",
              "\n",
              "// Max number of bytes which will be uploaded at a time.\n",
              "const MAX_PAYLOAD_SIZE = 100 * 1024;\n",
              "\n",
              "function _uploadFiles(inputId, outputId) {\n",
              "  const steps = uploadFilesStep(inputId, outputId);\n",
              "  const outputElement = document.getElementById(outputId);\n",
              "  // Cache steps on the outputElement to make it available for the next call\n",
              "  // to uploadFilesContinue from Python.\n",
              "  outputElement.steps = steps;\n",
              "\n",
              "  return _uploadFilesContinue(outputId);\n",
              "}\n",
              "\n",
              "// This is roughly an async generator (not supported in the browser yet),\n",
              "// where there are multiple asynchronous steps and the Python side is going\n",
              "// to poll for completion of each step.\n",
              "// This uses a Promise to block the python side on completion of each step,\n",
              "// then passes the result of the previous step as the input to the next step.\n",
              "function _uploadFilesContinue(outputId) {\n",
              "  const outputElement = document.getElementById(outputId);\n",
              "  const steps = outputElement.steps;\n",
              "\n",
              "  const next = steps.next(outputElement.lastPromiseValue);\n",
              "  return Promise.resolve(next.value.promise).then((value) => {\n",
              "    // Cache the last promise value to make it available to the next\n",
              "    // step of the generator.\n",
              "    outputElement.lastPromiseValue = value;\n",
              "    return next.value.response;\n",
              "  });\n",
              "}\n",
              "\n",
              "/**\n",
              " * Generator function which is called between each async step of the upload\n",
              " * process.\n",
              " * @param {string} inputId Element ID of the input file picker element.\n",
              " * @param {string} outputId Element ID of the output display.\n",
              " * @return {!Iterable<!Object>} Iterable of next steps.\n",
              " */\n",
              "function* uploadFilesStep(inputId, outputId) {\n",
              "  const inputElement = document.getElementById(inputId);\n",
              "  inputElement.disabled = false;\n",
              "\n",
              "  const outputElement = document.getElementById(outputId);\n",
              "  outputElement.innerHTML = '';\n",
              "\n",
              "  const pickedPromise = new Promise((resolve) => {\n",
              "    inputElement.addEventListener('change', (e) => {\n",
              "      resolve(e.target.files);\n",
              "    });\n",
              "  });\n",
              "\n",
              "  const cancel = document.createElement('button');\n",
              "  inputElement.parentElement.appendChild(cancel);\n",
              "  cancel.textContent = 'Cancel upload';\n",
              "  const cancelPromise = new Promise((resolve) => {\n",
              "    cancel.onclick = () => {\n",
              "      resolve(null);\n",
              "    };\n",
              "  });\n",
              "\n",
              "  // Wait for the user to pick the files.\n",
              "  const files = yield {\n",
              "    promise: Promise.race([pickedPromise, cancelPromise]),\n",
              "    response: {\n",
              "      action: 'starting',\n",
              "    }\n",
              "  };\n",
              "\n",
              "  cancel.remove();\n",
              "\n",
              "  // Disable the input element since further picks are not allowed.\n",
              "  inputElement.disabled = true;\n",
              "\n",
              "  if (!files) {\n",
              "    return {\n",
              "      response: {\n",
              "        action: 'complete',\n",
              "      }\n",
              "    };\n",
              "  }\n",
              "\n",
              "  for (const file of files) {\n",
              "    const li = document.createElement('li');\n",
              "    li.append(span(file.name, {fontWeight: 'bold'}));\n",
              "    li.append(span(\n",
              "        `(${file.type || 'n/a'}) - ${file.size} bytes, ` +\n",
              "        `last modified: ${\n",
              "            file.lastModifiedDate ? file.lastModifiedDate.toLocaleDateString() :\n",
              "                                    'n/a'} - `));\n",
              "    const percent = span('0% done');\n",
              "    li.appendChild(percent);\n",
              "\n",
              "    outputElement.appendChild(li);\n",
              "\n",
              "    const fileDataPromise = new Promise((resolve) => {\n",
              "      const reader = new FileReader();\n",
              "      reader.onload = (e) => {\n",
              "        resolve(e.target.result);\n",
              "      };\n",
              "      reader.readAsArrayBuffer(file);\n",
              "    });\n",
              "    // Wait for the data to be ready.\n",
              "    let fileData = yield {\n",
              "      promise: fileDataPromise,\n",
              "      response: {\n",
              "        action: 'continue',\n",
              "      }\n",
              "    };\n",
              "\n",
              "    // Use a chunked sending to avoid message size limits. See b/62115660.\n",
              "    let position = 0;\n",
              "    do {\n",
              "      const length = Math.min(fileData.byteLength - position, MAX_PAYLOAD_SIZE);\n",
              "      const chunk = new Uint8Array(fileData, position, length);\n",
              "      position += length;\n",
              "\n",
              "      const base64 = btoa(String.fromCharCode.apply(null, chunk));\n",
              "      yield {\n",
              "        response: {\n",
              "          action: 'append',\n",
              "          file: file.name,\n",
              "          data: base64,\n",
              "        },\n",
              "      };\n",
              "\n",
              "      let percentDone = fileData.byteLength === 0 ?\n",
              "          100 :\n",
              "          Math.round((position / fileData.byteLength) * 100);\n",
              "      percent.textContent = `${percentDone}% done`;\n",
              "\n",
              "    } while (position < fileData.byteLength);\n",
              "  }\n",
              "\n",
              "  // All done.\n",
              "  yield {\n",
              "    response: {\n",
              "      action: 'complete',\n",
              "    }\n",
              "  };\n",
              "}\n",
              "\n",
              "scope.google = scope.google || {};\n",
              "scope.google.colab = scope.google.colab || {};\n",
              "scope.google.colab._files = {\n",
              "  _uploadFiles,\n",
              "  _uploadFilesContinue,\n",
              "};\n",
              "})(self);\n",
              "</script> "
            ]
          },
          "metadata": {}
        },
        {
          "output_type": "stream",
          "name": "stdout",
          "text": [
            "Saving palabras.csv to palabras (3).csv\n",
            "Cantidad de palabras correctas: 11\n",
            "Cantidad de palabras erróneas: 0\n"
          ]
        }
      ]
    },
    {
      "cell_type": "markdown",
      "source": [
        "ARCHIVO EJEMPLO\n"
      ],
      "metadata": {
        "id": "s6RYfKwT1zwl"
      }
    },
    {
      "cell_type": "code",
      "source": [
        "# Lista de palabras en español\n",
        "palabras = [\n",
        "    \"hola\",\n",
        "    \"mundo\",\n",
        "    \"programación\",\n",
        "    \"python\",\n",
        "    \"archivo\",\n",
        "    \"prueba\",\n",
        "    \"texto\",\n",
        "    \"computadora\",\n",
        "    \"programa\",\n",
        "    \"desarrollo\"\n",
        "]\n",
        "\n",
        "# Importar el módulo CSV\n",
        "import csv\n",
        "\n",
        "# Nombre del archivo CSV\n",
        "nombre_archivo = \"palabras.csv\"\n",
        "\n",
        "# Escribir el archivo CSV\n",
        "with open(nombre_archivo, mode='w', newline='', encoding='utf-8') as archivo_csv:\n",
        "    # Crear el escritor CSV\n",
        "    escritor_csv = csv.writer(archivo_csv)\n",
        "\n",
        "    # Escribir el encabezado\n",
        "    escritor_csv.writerow(['Palabra'])\n",
        "\n",
        "    # Escribir las palabras en el archivo CSV\n",
        "    for palabra in palabras:\n",
        "        escritor_csv.writerow([palabra])\n",
        "\n",
        "print(\"Archivo CSV creado correctamente:\", nombre_archivo)"
      ],
      "metadata": {
        "colab": {
          "base_uri": "https://localhost:8080/"
        },
        "id": "-FQQwBHH0OnT",
        "outputId": "feaccca2-8215-486b-f668-bf44bc4137d6"
      },
      "execution_count": 8,
      "outputs": [
        {
          "output_type": "stream",
          "name": "stdout",
          "text": [
            "Archivo CSV creado correctamente: palabras.csv\n"
          ]
        }
      ]
    }
  ]
}