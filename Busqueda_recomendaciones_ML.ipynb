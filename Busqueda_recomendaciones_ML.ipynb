{
  "nbformat": 4,
  "nbformat_minor": 0,
  "metadata": {
    "colab": {
      "provenance": [],
      "authorship_tag": "ABX9TyPMDH/v2PKrvby+6H6p0YfI",
      "include_colab_link": true
    },
    "kernelspec": {
      "name": "python3",
      "display_name": "Python 3"
    },
    "language_info": {
      "name": "python"
    }
  },
  "cells": [
    {
      "cell_type": "markdown",
      "metadata": {
        "id": "view-in-github",
        "colab_type": "text"
      },
      "source": [
        "<a href=\"https://colab.research.google.com/github/ValeriaYashan/Phyton/blob/main/Busqueda_recomendaciones_ML.ipynb\" target=\"_parent\"><img src=\"https://colab.research.google.com/assets/colab-badge.svg\" alt=\"Open In Colab\"/></a>"
      ]
    },
    {
      "cell_type": "code",
      "execution_count": 1,
      "metadata": {
        "colab": {
          "base_uri": "https://localhost:8080/"
        },
        "id": "_lk6RIHAn9hm",
        "outputId": "dc95eb78-62f3-4cc5-f160-e6338260541b"
      },
      "outputs": [
        {
          "output_type": "stream",
          "name": "stdout",
          "text": [
            "Ingrese lo que está buscando: televisor\n",
            "Resultados de la búsqueda:\n",
            "ID: 4, Nombre: Televisor LG 4K, Categoría: Electrónica\n",
            "\n",
            "Productos recomendados:\n",
            "ID: 1, Nombre: Smartphone Samsung Galaxy, Categoría: Electrónica\n",
            "ID: 2, Nombre: Portátil HP Pavilion, Categoría: Electrónica\n",
            "ID: 3, Nombre: Zapatillas Nike Air Max, Categoría: Moda\n"
          ]
        }
      ],
      "source": [
        "# Título del Proyecto: Simulación de Búsqueda y Recomendaciones en MercadoLibre\n",
        "\n",
        "class Producto:\n",
        "    def __init__(self, id, nombre, categoria):\n",
        "        self.id = id\n",
        "        self.nombre = nombre\n",
        "        self.categoria = categoria\n",
        "\n",
        "# Base de datos de productos (simulada)\n",
        "productos = [\n",
        "    Producto(1, \"Smartphone Samsung Galaxy\", \"Electrónica\"),\n",
        "    Producto(2, \"Portátil HP Pavilion\", \"Electrónica\"),\n",
        "    Producto(3, \"Zapatillas Nike Air Max\", \"Moda\"),\n",
        "    Producto(4, \"Televisor LG 4K\", \"Electrónica\"),\n",
        "    Producto(5, \"Libro 'Cien años de soledad'\", \"Libros\"),\n",
        "    Producto(6, \"Cámara Canon EOS\", \"Fotografía\"),\n",
        "    Producto(7, \"Refrigeradora Whirlpool\", \"Electrodomésticos\"),\n",
        "    Producto(8, \"Reloj Casio G-Shock\", \"Moda\"),\n",
        "    Producto(9, \"Horno Microondas Panasonic\", \"Electrodomésticos\"),\n",
        "    Producto(10, \"Zapatos Adidas Superstar\", \"Moda\")\n",
        "]\n",
        "\n",
        "class MercadoLibre:\n",
        "    def __init__(self, productos):\n",
        "        self.productos = productos\n",
        "\n",
        "    def buscar_productos(self, consulta):\n",
        "        resultados = []\n",
        "        for producto in self.productos:\n",
        "            if consulta.lower() in producto.nombre.lower():\n",
        "                resultados.append(producto)\n",
        "        return resultados\n",
        "\n",
        "    def recomendar_productos(self, historial_compras, cantidad=3):\n",
        "        recomendaciones = []\n",
        "        categorias_compradas = [producto.categoria for producto in historial_compras]\n",
        "        for producto in self.productos:\n",
        "            if producto.categoria in categorias_compradas:\n",
        "                recomendaciones.append(producto)\n",
        "            if len(recomendaciones) >= cantidad:\n",
        "                break\n",
        "        return recomendaciones\n",
        "\n",
        "# Crear instancia de MercadoLibre\n",
        "mercado_libre = MercadoLibre(productos)\n",
        "\n",
        "# Simular consulta de búsqueda\n",
        "consulta_usuario = input(\"Ingrese lo que está buscando: \")\n",
        "resultados_busqueda = mercado_libre.buscar_productos(consulta_usuario)\n",
        "print(\"Resultados de la búsqueda:\")\n",
        "for producto in resultados_busqueda:\n",
        "    print(f\"ID: {producto.id}, Nombre: {producto.nombre}, Categoría: {producto.categoria}\")\n",
        "\n",
        "# Simular historial de compras del usuario\n",
        "historial_compras = [productos[0], productos[4], productos[7]]\n",
        "\n",
        "# Recomendar productos basados en el historial de compras del usuario\n",
        "print(\"\\nProductos recomendados:\")\n",
        "recomendaciones = mercado_libre.recomendar_productos(historial_compras)\n",
        "for producto in recomendaciones:\n",
        "    print(f\"ID: {producto.id}, Nombre: {producto.nombre}, Categoría: {producto.categoria}\")"
      ]
    }
  ]
}