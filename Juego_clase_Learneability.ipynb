{
  "nbformat": 4,
  "nbformat_minor": 0,
  "metadata": {
    "colab": {
      "provenance": [],
      "authorship_tag": "ABX9TyMM8pDQp+0AQrP45bV4Eohk",
      "include_colab_link": true
    },
    "kernelspec": {
      "name": "python3",
      "display_name": "Python 3"
    },
    "language_info": {
      "name": "python"
    }
  },
  "cells": [
    {
      "cell_type": "markdown",
      "metadata": {
        "id": "view-in-github",
        "colab_type": "text"
      },
      "source": [
        "<a href=\"https://colab.research.google.com/github/ValeriaYashan/Phyton/blob/main/Juego_clase_Learneability.ipynb\" target=\"_parent\"><img src=\"https://colab.research.google.com/assets/colab-badge.svg\" alt=\"Open In Colab\"/></a>"
      ]
    },
    {
      "cell_type": "code",
      "execution_count": null,
      "metadata": {
        "colab": {
          "base_uri": "https://localhost:8080/"
        },
        "id": "r5bi1yc-Bx88",
        "outputId": "3a7d3c3a-c68e-4a0b-e882-b2f06bd83dcc"
      },
      "outputs": [
        {
          "output_type": "stream",
          "name": "stdout",
          "text": [
            "¡Bienvenido a Adivina el Número!\n",
            "Introduce el número mínimo del rango: 5\n",
            "Introduce el número máximo del rango: 10\n",
            "¿Cuántos intentos deseas? 3\n",
            "Intenta adivinar el número (Intento 1): 7\n",
            "Demasiado bajo. Inténtalo de nuevo.\n",
            "Intenta adivinar el número (Intento 2): 8\n",
            "Demasiado bajo. Inténtalo de nuevo.\n",
            "Intenta adivinar el número (Intento 3): 9\n",
            "¡Felicitaciones! ¡Adivinaste el número en 3 intentos!\n"
          ]
        }
      ],
      "source": [
        "import random  # Importamos el módulo random para generar números aleatorios\n",
        "\n",
        "def jugar_adivinanza():\n",
        "    print(\"¡Bienvenido a Adivina el Número!\")  # Mensaje de bienvenida al juego\n",
        "    minimo = int(input(\"Introduce el número mínimo del rango: \"))  # Solicitamos al usuario el mínimo del rango\n",
        "    maximo = int(input(\"Introduce el número máximo del rango: \"))  # Solicitamos al usuario el máximo del rango\n",
        "    numero_secreto = random.randint(minimo, maximo)  # Generamos el número aleatorio dentro del rango especificado\n",
        "    intentos_totales = int(input(\"¿Cuántos intentos deseas? \"))  # Solicitamos al usuario el número de intentos\n",
        "    intentos_realizados = 0  # Inicializamos el contador de intentos realizados\n",
        "\n",
        "    while intentos_realizados < intentos_totales:  # Iniciamos un bucle para los intentos del jugador\n",
        "        intento = int(input(f\"Intenta adivinar el número (Intento {intentos_realizados + 1}): \"))  # Solicitamos al jugador su intento\n",
        "        intentos_realizados += 1  # Incrementamos el contador de intentos\n",
        "\n",
        "        if intento < numero_secreto:  # Comparamos el intento del jugador con el número secreto\n",
        "            print(\"Demasiado bajo. Inténtalo de nuevo.\")  # Mensaje si el intento es menor que el número secreto\n",
        "        elif intento > numero_secreto:  # Comparamos el intento del jugador con el número secreto\n",
        "            print(\"Demasiado alto. Inténtalo de nuevo.\")  # Mensaje si el intento es mayor que el número secreto\n",
        "        else:\n",
        "            print(f\"¡Felicitaciones! ¡Adivinaste el número en {intentos_realizados} intentos!\")  # Mensaje de felicitaciones si el jugador adivina\n",
        "            break  # Salimos del bucle si el jugador adivina el número\n",
        "    else:\n",
        "        print(f\"¡Oh no! Te has quedado sin intentos. El número correcto era {numero_secreto}.\")  # Mensaje si el jugador se queda sin intentos\n",
        "\n",
        "    jugar_de_nuevo = input(\"¿Quieres jugar de nuevo? (s/n): \")  # Preguntamos al jugador si quiere jugar de nuevo\n",
        "    if jugar_de_nuevo.lower() == \"s\":  # Verificamos si el jugador quiere jugar de nuevo\n",
        "        jugar_adivinanza()  # Llamamos a la función jugar_adivinanza() para iniciar un nuevo juego\n",
        "    else:\n",
        "        print(\"¡Gracias por jugar!\")  # Mensaje de despedida si el jugador decide no jugar más\n",
        "\n",
        "if __name__ == \"__main__\":\n",
        "    jugar_adivinanza()  # Llamamos a la función principal jugar_adivinanza() para iniciar el juego"
      ]
    },
    {
      "cell_type": "code",
      "source": [],
      "metadata": {
        "id": "kE-FEgjuCoZA"
      },
      "execution_count": null,
      "outputs": []
    }
  ]
}